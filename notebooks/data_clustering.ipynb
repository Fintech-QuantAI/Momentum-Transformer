{
 "cells": [
  {
   "cell_type": "code",
   "execution_count": 1,
   "id": "ea101cb3",
   "metadata": {},
   "outputs": [],
   "source": [
    "import sys\n",
    "sys.path.append('../')\n",
    "import pandas as pd\n",
    "import yfinance as yf\n",
    "import matplotlib.pyplot as plt"
   ]
  },
  {
   "cell_type": "code",
   "execution_count": null,
   "id": "2989487a",
   "metadata": {},
   "outputs": [],
   "source": [
    "data = pd.read_csv('../data/processed/stock_data_sma_20.csv', index_col=0)\n",
    "\n",
    "sma_20_clear = sma_20.dropna()\n",
    "sma_20_clear = sma_20_clear.transpose()\n",
    "\n",
    "sma_20_clear"
   ]
  },
  {
   "cell_type": "code",
   "execution_count": null,
   "id": "300a9c75",
   "metadata": {},
   "outputs": [],
   "source": [
    "sma_20_clustering = KMeansClustering(sma_20_clear, 100)\n",
    "sma_20_clustering = sma_20_clustering.iloc[:,-1:]\n",
    "\n",
    "data = sma_20_clustering\n",
    "data.to_csv('../data/processed/cls.csv')"
   ]
  },
  {
   "cell_type": "code",
   "execution_count": null,
   "id": "9c1e12f2",
   "metadata": {},
   "outputs": [],
   "source": [
    "plt.figure(figsize=(12,8))\n",
    "\n",
    "for cluster in range(100):\n",
    "    # 현재 클러스터에 해당하는 데이터만 필터링\n",
    "    cluster_data = data[data['clusters'] == cluster]\n",
    "    \n",
    "    # 클러스터 데이터의 시계열을 하나의 그래프로 표시\n",
    "    for index, row in cluster_data.iterrows():\n",
    "        plt.plot(row[:-1], label=f'Cluster {cluster}, Index {index}')\n",
    "    \n",
    "    plt.title(f'Time Series Plot for Cluster {cluster}')\n",
    "    plt.legend()\n",
    "    plt.show()"
   ]
  }
 ],
 "metadata": {
  "kernelspec": {
   "display_name": "finance",
   "language": "python",
   "name": "finance"
  },
  "language_info": {
   "codemirror_mode": {
    "name": "ipython",
    "version": 3
   },
   "file_extension": ".py",
   "mimetype": "text/x-python",
   "name": "python",
   "nbconvert_exporter": "python",
   "pygments_lexer": "ipython3",
   "version": "3.11.4"
  }
 },
 "nbformat": 4,
 "nbformat_minor": 5
}
