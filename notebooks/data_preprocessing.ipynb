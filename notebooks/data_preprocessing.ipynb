{
 "cells": [
  {
   "cell_type": "code",
   "execution_count": 2,
   "id": "6215f5de",
   "metadata": {},
   "outputs": [],
   "source": [
    "import sys\n",
    "sys.path.append('../')\n",
    "import pandas as pd\n",
    "import yfinance as yf\n",
    "import matplotlib.pyplot as plt"
   ]
  },
  {
   "cell_type": "code",
   "execution_count": 3,
   "id": "ec3fa83a",
   "metadata": {},
   "outputs": [],
   "source": [
    "def read_symbols(file_path):\n",
    "    df = pd.read_csv(file_path)\n",
    "    return df['Symbol'].tolist()\n",
    "\n",
    "# read NYSE, NASDAQ, AMEX Symbol\n",
    "symbols_nyse = read_symbols('../data/raw/NYSE.csv')\n",
    "symbols_nasdaq = read_symbols('../data/raw/NASDAQ.csv')\n",
    "symbols_amex = read_symbols('../data/raw/AMEX.csv')\n",
    "\n",
    "all_symbols = symbols_nyse + symbols_nasdaq + symbols_amex"
   ]
  },
  {
   "cell_type": "code",
   "execution_count": 4,
   "id": "b2e032b9",
   "metadata": {},
   "outputs": [
    {
     "data": {
      "text/plain": [
       "7197"
      ]
     },
     "execution_count": 4,
     "metadata": {},
     "output_type": "execute_result"
    }
   ],
   "source": [
    "len(all_symbols)"
   ]
  },
  {
   "cell_type": "code",
   "execution_count": null,
   "id": "30f3156b",
   "metadata": {},
   "outputs": [],
   "source": [
    "# yf ticker download\n",
    "tickers = all_symbols\n",
    "tickers = [str(ticker) for ticker in tickers] # float 값을 포함하고 있어 전체 str로 변환\n",
    "\n",
    "data = yf.Tickers(tickers)\n",
    "stock_data = data.history(start='2011-01-01', end='2021-02-28', actions-=False)\n",
    "stock_data.drop(['Open', 'High', 'Low', 'Volume'], inplace=True, axis=1)\n",
    "stock_data = stock_data.droplevel(0, axis=1)\n",
    "\n",
    "stock_data = stock_data.pct_change().fillna(0)\n",
    "stock_data = stock_data.iloc[1:]\n",
    "stock_data.to_csv('../data/raw/stock_data.csv')"
   ]
  },
  {
   "cell_type": "code",
   "execution_count": null,
   "id": "3a08dcb8",
   "metadata": {},
   "outputs": [],
   "source": [
    "stock_data = pd.read_csv('../data/raw/stock_data.csv', index_col=0)\n",
    "zero_ratio = (stock_data == 0).mean()\n",
    "stock_data = stock_data.loc[:, zero_ratio < 0.2]\n",
    "stock_data.to_csv('../data/processed/stock_data_cleaning.csv')\n",
    "\n",
    "# Simple Moving Average\n",
    "sma_20 = stock_data.rolling(window=20).mean()\n",
    "sma_50 = stock_data.rollung(window=50).mean()\n",
    "\n",
    "# Exponential Moving Average\n",
    "ema_20 = stock_data.rolling(window=20).mean()\n",
    "ema_50 = stock_data.rolling(window=50).mean()\n",
    "\n",
    "sma_20.to_csv('../data/processed/stock_data_sma_20.csv')\n",
    "sma_50.to_csv('../data/processed/stock_data_sma_50.csv')\n",
    "ema_20.to_csv('../data/processed/stock_data_ema_20.csv')\n",
    "ema_50.to_csv('../data/processed/stock_data_ema_50.csv')"
   ]
  }
 ],
 "metadata": {
  "kernelspec": {
   "display_name": "finance",
   "language": "python",
   "name": "finance"
  },
  "language_info": {
   "codemirror_mode": {
    "name": "ipython",
    "version": 3
   },
   "file_extension": ".py",
   "mimetype": "text/x-python",
   "name": "python",
   "nbconvert_exporter": "python",
   "pygments_lexer": "ipython3",
   "version": "3.11.4"
  }
 },
 "nbformat": 4,
 "nbformat_minor": 5
}
